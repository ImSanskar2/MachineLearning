{
  "nbformat": 4,
  "nbformat_minor": 0,
  "metadata": {
    "colab": {
      "name": "Basics_of_Numpy.ipynb",
      "provenance": [],
      "collapsed_sections": []
    },
    "kernelspec": {
      "name": "python3",
      "display_name": "Python 3"
    }
  },
  "cells": [
    {
      "cell_type": "code",
      "metadata": {
        "id": "_HeNBokhfXVM",
        "colab": {
          "base_uri": "https://localhost:8080/"
        },
        "outputId": "ad412962-815f-40d7-b669-45fc0025ebbb"
      },
      "source": [
        "import numpy as np\n",
        "\n",
        "a=np.array([[[1,2,3,9],[3,4,5,10],[6,7,8,10]],[[1,2,3,10],[3,4,5,10],\n",
        "[6,7,8,10]],[[1,2,3,10],[3,4,5,10],[6,7,8,10]]])\n",
        "\n",
        "print(a.ndim)\n",
        "\n",
        "print(a.shape)\n",
        "\n",
        "print(a.size)\n",
        "\n",
        "a=np.arange(24).reshape(2,3,4)\n",
        "\n",
        "a.resize(3,8)\n",
        "\n",
        "print(a)"
      ],
      "execution_count": 1,
      "outputs": [
        {
          "output_type": "stream",
          "name": "stdout",
          "text": [
            "3\n",
            "(3, 3, 4)\n",
            "36\n",
            "[[ 0  1  2  3  4  5  6  7]\n",
            " [ 8  9 10 11 12 13 14 15]\n",
            " [16 17 18 19 20 21 22 23]]\n"
          ]
        }
      ]
    },
    {
      "cell_type": "code",
      "metadata": {
        "id": "vBhjb3pYknwn",
        "colab": {
          "base_uri": "https://localhost:8080/"
        },
        "outputId": "71cec242-1144-4dbc-a2af-20c6f33b90d4"
      },
      "source": [
        "b = np.array([[1.5,2,3], [4,5,6]])\n",
        "c = np.array( [ [1,2], [3,4] ], dtype=complex )\n",
        "\n",
        "print(b)\n",
        "print(b.dtype)\n",
        "\n",
        "print(c)"
      ],
      "execution_count": 2,
      "outputs": [
        {
          "output_type": "stream",
          "name": "stdout",
          "text": [
            "[[1.5 2.  3. ]\n",
            " [4.  5.  6. ]]\n",
            "float64\n",
            "[[1.+0.j 2.+0.j]\n",
            " [3.+0.j 4.+0.j]]\n"
          ]
        }
      ]
    },
    {
      "cell_type": "code",
      "metadata": {
        "id": "xjrMmpvClEMh",
        "colab": {
          "base_uri": "https://localhost:8080/"
        },
        "outputId": "ad41149d-2851-49a6-ab25-55d2b817a881"
      },
      "source": [
        "c = np.array( [ [1,2], [3,4] ], dtype=complex )    # type of array explicitly defined\n",
        "c\n"
      ],
      "execution_count": 3,
      "outputs": [
        {
          "output_type": "execute_result",
          "data": {
            "text/plain": [
              "array([[1.+0.j, 2.+0.j],\n",
              "       [3.+0.j, 4.+0.j]])"
            ]
          },
          "metadata": {},
          "execution_count": 3
        }
      ]
    },
    {
      "cell_type": "code",
      "metadata": {
        "id": "eaVRCSZIlSQU",
        "colab": {
          "base_uri": "https://localhost:8080/"
        },
        "outputId": "b482b982-7115-48fa-b4d0-9a3ddd0db5a1"
      },
      "source": [
        "c=np.empty( (2,3) )\n",
        "print(c)\n",
        "b=np.ones( (2,3,4), dtype=np.int16 ) \n",
        "b"
      ],
      "execution_count": 4,
      "outputs": [
        {
          "output_type": "stream",
          "name": "stdout",
          "text": [
            "[[1.5 2.  3. ]\n",
            " [4.  5.  6. ]]\n"
          ]
        },
        {
          "output_type": "execute_result",
          "data": {
            "text/plain": [
              "array([[[1, 1, 1, 1],\n",
              "        [1, 1, 1, 1],\n",
              "        [1, 1, 1, 1]],\n",
              "\n",
              "       [[1, 1, 1, 1],\n",
              "        [1, 1, 1, 1],\n",
              "        [1, 1, 1, 1]]], dtype=int16)"
            ]
          },
          "metadata": {},
          "execution_count": 4
        }
      ]
    },
    {
      "cell_type": "code",
      "metadata": {
        "id": "HSXTgE7s-0J2",
        "colab": {
          "base_uri": "https://localhost:8080/"
        },
        "outputId": "dae2aa16-1faf-44b2-a30e-9998a4912c76"
      },
      "source": [
        "b=np.ones( (2,3,4), dtype=np.int16 )\n",
        "n=np.empty((2,5))\n",
        "print(n)\n"
      ],
      "execution_count": 5,
      "outputs": [
        {
          "output_type": "stream",
          "name": "stdout",
          "text": [
            "[[4.67509616e-310 3.60739284e-313 1.38338381e-322 4.67509616e-310\n",
            "  0.00000000e+000]\n",
            " [0.00000000e+000 4.94065646e-323 0.00000000e+000 0.00000000e+000\n",
            "  0.00000000e+000]]\n"
          ]
        }
      ]
    },
    {
      "cell_type": "code",
      "metadata": {
        "id": "KIZRGgTC0JV-",
        "colab": {
          "base_uri": "https://localhost:8080/"
        },
        "outputId": "f7a24022-5c73-458e-f5f4-e07dd4eb799e"
      },
      "source": [
        "   \n",
        "c=np.linspace( 0, 2, 9 )\n",
        "ca=np.arange( 0, 2, 9 )\n",
        "b=np.linspace( 0, 2, 5 )\n",
        "ba=np.arange( 0, 2, 5 )\n",
        "a=np.linspace( 0, 2, 20 )\n",
        "\n",
        "\n",
        "aa=np.arange( 0, 2, 20 )\n",
        "\n",
        "\n",
        "\n",
        "print(a ,aa ,b,ba,c,ca, sep='\\n') "
      ],
      "execution_count": 6,
      "outputs": [
        {
          "output_type": "stream",
          "name": "stdout",
          "text": [
            "[0.         0.10526316 0.21052632 0.31578947 0.42105263 0.52631579\n",
            " 0.63157895 0.73684211 0.84210526 0.94736842 1.05263158 1.15789474\n",
            " 1.26315789 1.36842105 1.47368421 1.57894737 1.68421053 1.78947368\n",
            " 1.89473684 2.        ]\n",
            "[0]\n",
            "[0.  0.5 1.  1.5 2. ]\n",
            "[0]\n",
            "[0.   0.25 0.5  0.75 1.   1.25 1.5  1.75 2.  ]\n",
            "[0]\n"
          ]
        }
      ]
    },
    {
      "cell_type": "code",
      "metadata": {
        "id": "YQx9OlD21yjF",
        "colab": {
          "base_uri": "https://localhost:8080/"
        },
        "outputId": "08afaee7-e41d-4846-95a4-8d23c08cda6b"
      },
      "source": [
        "import numpy as np \n",
        "a = np.array([0,30,45,60,90]) \n",
        "\n",
        "print('Sine of different angles:' )\n",
        "# Convert to radians by multiplying with pi/180 \n",
        "print(np.sin(a*np.pi/180) )\n",
        "print('\\n' ) \n",
        "\n",
        "print( 'Cosine values for angles in array:' )\n",
        "print(np.cos(a*np.pi/180))\n",
        "print ('\\n' ) \n",
        "\n",
        "print('Tangent values for given angles:' )\n",
        "print(np.tan(a*np.pi/180))"
      ],
      "execution_count": 7,
      "outputs": [
        {
          "output_type": "stream",
          "name": "stdout",
          "text": [
            "Sine of different angles:\n",
            "[0.         0.5        0.70710678 0.8660254  1.        ]\n",
            "\n",
            "\n",
            "Cosine values for angles in array:\n",
            "[1.00000000e+00 8.66025404e-01 7.07106781e-01 5.00000000e-01\n",
            " 6.12323400e-17]\n",
            "\n",
            "\n",
            "Tangent values for given angles:\n",
            "[0.00000000e+00 5.77350269e-01 1.00000000e+00 1.73205081e+00\n",
            " 1.63312394e+16]\n"
          ]
        }
      ]
    },
    {
      "cell_type": "code",
      "metadata": {
        "id": "MaWDlJuYvof1",
        "outputId": "3cea6936-f8a4-4a99-988e-82fb9e2c6c62",
        "colab": {
          "base_uri": "https://localhost:8080/"
        }
      },
      "source": [
        "# Create an array with random values \n",
        "e = np.random.random((2, 2)) \n",
        "print (\"\\nA random array:\\n\", e) \n",
        "  \n",
        "# Create a sequence of integers  \n",
        "# from 0 to 30 with steps of 5 \n",
        "f = np.arange(0, 30, 5) \n",
        "print (\"\\nA sequential array with steps of 5:\\n\", f) \n",
        "  \n",
        "# Create a sequence of 10 values in range 0 to 5 \n",
        "g = np.linspace(0, 5, 10) \n",
        "print (\"\\nA sequential array with 10 values between\"\n",
        "                                        \"0 and 5:\\n\", g) \n",
        "  \n",
        "# Reshaping 3X4 array to 2X2X3 array \n",
        "arr = np.array([[1, 2, 3, 4], \n",
        "                [5, 2, 4, 2], \n",
        "                [1, 2, 0, 1]]) \n",
        "  \n",
        "newarr = arr.reshape(2, 2, 3) \n",
        "  \n",
        "print (\"\\nOriginal array:\\n\", arr) \n",
        "print (\"Reshaped array:\\n\", newarr) \n",
        "  \n",
        "# Flatten array \n",
        "arr = np.array([[1, 2, 3], [4, 5, 6]]) \n",
        "flarr = arr.flatten() \n",
        "  \n",
        "print (\"\\nOriginal array:\\n\", arr) \n",
        "print (\"Fattened array:\\n\", flarr) "
      ],
      "execution_count": 8,
      "outputs": [
        {
          "output_type": "stream",
          "name": "stdout",
          "text": [
            "\n",
            "A random array:\n",
            " [[0.43825165 0.92808995]\n",
            " [0.98317182 0.98266471]]\n",
            "\n",
            "A sequential array with steps of 5:\n",
            " [ 0  5 10 15 20 25]\n",
            "\n",
            "A sequential array with 10 values between0 and 5:\n",
            " [0.         0.55555556 1.11111111 1.66666667 2.22222222 2.77777778\n",
            " 3.33333333 3.88888889 4.44444444 5.        ]\n",
            "\n",
            "Original array:\n",
            " [[1 2 3 4]\n",
            " [5 2 4 2]\n",
            " [1 2 0 1]]\n",
            "Reshaped array:\n",
            " [[[1 2 3]\n",
            "  [4 5 2]]\n",
            "\n",
            " [[4 2 1]\n",
            "  [2 0 1]]]\n",
            "\n",
            "Original array:\n",
            " [[1 2 3]\n",
            " [4 5 6]]\n",
            "Fattened array:\n",
            " [1 2 3 4 5 6]\n"
          ]
        }
      ]
    },
    {
      "cell_type": "markdown",
      "metadata": {
        "id": "mWLQHV-Tvpdv"
      },
      "source": [
        "Flatten array: We can use flatten method to get a copy of array collapsed into one dimension. It accepts order argument. Default value is ‘C’ (for row-major order). \n",
        "Use ‘F’ for column major order.\n",
        "\n",
        "Stacking: Several arrays can be stacked together along different axes.\n",
        "\n",
        "np.vstack: To stack arrays along vertical axis.\n",
        "\n",
        "np.hstack: To stack arrays along horizontal axis.\n",
        "\n",
        "np.column_stack: To stack 1-D arrays as columns into 2-D arrays.\n",
        "np.concatenate: To stack arrays along specified axis (axis is passed as argument)."
      ]
    },
    {
      "cell_type": "code",
      "metadata": {
        "id": "ezlIxq3NwmEV",
        "colab": {
          "base_uri": "https://localhost:8080/"
        },
        "outputId": "823b85c9-2281-4471-db23-9cfb88733ab5"
      },
      "source": [
        "import numpy as np\n",
        "  \n",
        "a = np.array([[1, 2], \n",
        "              [3, 4]]) \n",
        "  \n",
        "b = np.array([[5, 6], \n",
        "              [7, 8]]) \n",
        "  \n",
        "# vertical stacking \n",
        "print(\"Vertical stacking:\\n\", np.vstack((a, b))) \n",
        "  \n",
        "# horizontal stacking \n",
        "print(\"\\nHorizontal stacking:\\n\", np.hstack((a, b))) \n",
        "  \n",
        "c = [5, 6] \n",
        "  \n",
        "# stacking columns \n",
        "print(\"\\nColumn stacking:\\n\", np.column_stack((a, c))) \n",
        "  \n",
        "# concatenation method  \n",
        "print(\"\\nConcatenating to 2nd axis:\\n\", np.concatenate((a, b), 1)) \n"
      ],
      "execution_count": 9,
      "outputs": [
        {
          "output_type": "stream",
          "name": "stdout",
          "text": [
            "Vertical stacking:\n",
            " [[1 2]\n",
            " [3 4]\n",
            " [5 6]\n",
            " [7 8]]\n",
            "\n",
            "Horizontal stacking:\n",
            " [[1 2 5 6]\n",
            " [3 4 7 8]]\n",
            "\n",
            "Column stacking:\n",
            " [[1 2 5]\n",
            " [3 4 6]]\n",
            "\n",
            "Concatenating to 2nd axis:\n",
            " [[1 2 5 6]\n",
            " [3 4 7 8]]\n"
          ]
        }
      ]
    },
    {
      "cell_type": "code",
      "source": [
        "from google.colab import drive\n",
        "drive.mount('/content/drive')"
      ],
      "metadata": {
        "id": "Mlqs62Hu77zV",
        "outputId": "d4a790a3-8232-49dd-f6d2-6dfa7f257c10",
        "colab": {
          "base_uri": "https://localhost:8080/"
        }
      },
      "execution_count": 10,
      "outputs": [
        {
          "output_type": "stream",
          "name": "stdout",
          "text": [
            "Mounted at /content/drive\n"
          ]
        }
      ]
    },
    {
      "cell_type": "markdown",
      "metadata": {
        "id": "gK0QEUQvz9lC"
      },
      "source": [
        "Splitting:For splitting, we have these functions:\n",
        "np.hsplit: Split array along horizontal axis.\n",
        "np.vsplit: Split array along vertical axis.\n",
        "np.array_split: Split array along specified axis.\n",
        "\n",
        "\n"
      ]
    },
    {
      "cell_type": "code",
      "metadata": {
        "id": "FTX0wg-4z-5W",
        "colab": {
          "base_uri": "https://localhost:8080/"
        },
        "outputId": "05c789c1-c409-4236-d4af-c29572873a80"
      },
      "source": [
        "import numpy as np \n",
        "  \n",
        "a = np.array([[1, 3, 5, 7, 9, 11], \n",
        "              [2, 4, 6, 8, 10, 12]]) \n",
        "  \n",
        "# horizontal splitting \n",
        "print(\"Splitting along horizontal axis into 2 parts:\\n\", np.hsplit(a, 2)) \n",
        "  \n",
        "# vertical splitting \n",
        "print(\"\\nSplitting along vertical axis into 2 parts:\\n\", np.vsplit(a, 2))"
      ],
      "execution_count": 11,
      "outputs": [
        {
          "output_type": "stream",
          "name": "stdout",
          "text": [
            "Splitting along horizontal axis into 2 parts:\n",
            " [array([[1, 3, 5],\n",
            "       [2, 4, 6]]), array([[ 7,  9, 11],\n",
            "       [ 8, 10, 12]])]\n",
            "\n",
            "Splitting along vertical axis into 2 parts:\n",
            " [array([[ 1,  3,  5,  7,  9, 11]]), array([[ 2,  4,  6,  8, 10, 12]])]\n"
          ]
        }
      ]
    },
    {
      "cell_type": "code",
      "metadata": {
        "id": "sALuoC-r9II5",
        "colab": {
          "base_uri": "https://localhost:8080/"
        },
        "outputId": "7fda7e19-9b77-403e-c7c3-d9f6c70dbc81"
      },
      "source": [
        "# broadcasting Strenching array\n",
        "import numpy as np \n",
        "  \n",
        "a = np.array([0.0, 10.0, 20.0, 30.0])\n",
        "\n",
        "b = np.array([0.0, 1.0, 2.0,5.0]) \n",
        "\n",
        "  \n",
        "print(a + b)"
      ],
      "execution_count": 12,
      "outputs": [
        {
          "output_type": "stream",
          "name": "stdout",
          "text": [
            "[ 0. 11. 22. 35.]\n"
          ]
        }
      ]
    },
    {
      "cell_type": "code",
      "metadata": {
        "id": "VENANN2JWDT0",
        "colab": {
          "base_uri": "https://localhost:8080/"
        },
        "outputId": "e50ccf99-da59-49d8-d90d-bfc632defce9"
      },
      "source": [
        "a = np.ones(3, dtype=np.int32)\n",
        "b = np.linspace(0, 3, 4)\n",
        "print(a)\n",
        "print(b)\n",
        "print(a.sum(), b.min(), b.max())"
      ],
      "execution_count": 13,
      "outputs": [
        {
          "output_type": "stream",
          "name": "stdout",
          "text": [
            "[1 1 1]\n",
            "[0. 1. 2. 3.]\n",
            "3 0.0 3.0\n"
          ]
        }
      ]
    }
  ]
}