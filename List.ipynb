{
  "nbformat": 4,
  "nbformat_minor": 0,
  "metadata": {
    "colab": {
      "name": "List.ipynb",
      "provenance": []
    },
    "kernelspec": {
      "name": "python3",
      "display_name": "Python 3"
    },
    "language_info": {
      "name": "python"
    }
  },
  "cells": [
    {
      "cell_type": "code",
      "execution_count": 10,
      "metadata": {
        "colab": {
          "base_uri": "https://localhost:8080/"
        },
        "id": "pLmxyNRQWA17",
        "outputId": "e2c372f8-067a-4e01-b317-d793c3f8f9f1"
      },
      "outputs": [
        {
          "output_type": "stream",
          "name": "stdout",
          "text": [
            "[1, 2, 3, 4, 5]\n"
          ]
        }
      ],
      "source": [
        "li=[1,2,3,4,5]\n",
        "print(li)"
      ]
    },
    {
      "cell_type": "code",
      "source": [
        "li=[5,7,1,9,3,5]\n",
        "li.sort()\n",
        "print(li)"
      ],
      "metadata": {
        "colab": {
          "base_uri": "https://localhost:8080/"
        },
        "id": "x-yEDja8XPOn",
        "outputId": "a6a7b486-7edd-4246-be64-9e36d34219ac"
      },
      "execution_count": 11,
      "outputs": [
        {
          "output_type": "stream",
          "name": "stdout",
          "text": [
            "[1, 3, 5, 5, 7, 9]\n"
          ]
        }
      ]
    },
    {
      "cell_type": "code",
      "source": [
        "li=[5,7,1,9,3,5]\n",
        "print(sorted(li))"
      ],
      "metadata": {
        "colab": {
          "base_uri": "https://localhost:8080/"
        },
        "id": "fjBDGSr0X6nH",
        "outputId": "8152722b-9193-4b77-a21f-c6ee005dfc17"
      },
      "execution_count": 12,
      "outputs": [
        {
          "output_type": "stream",
          "name": "stdout",
          "text": [
            "[1, 3, 5, 5, 7, 9]\n"
          ]
        }
      ]
    },
    {
      "cell_type": "code",
      "source": [
        "li.append(\"Sanskar\")\n",
        "print(li)"
      ],
      "metadata": {
        "colab": {
          "base_uri": "https://localhost:8080/"
        },
        "id": "6R8v88gEYe02",
        "outputId": "3d721d8a-cce3-4ec5-a3c5-43530110e3fd"
      },
      "execution_count": 13,
      "outputs": [
        {
          "output_type": "stream",
          "name": "stdout",
          "text": [
            "[5, 7, 1, 9, 3, 5, 'Sanskar']\n"
          ]
        }
      ]
    },
    {
      "cell_type": "code",
      "source": [
        "print(li[0])\n",
        "li=[\"0827CI191051\",\"Sanskar\",5,50,90]\n",
        "print(li)"
      ],
      "metadata": {
        "colab": {
          "base_uri": "https://localhost:8080/"
        },
        "id": "pPm5EPsbaGNp",
        "outputId": "c15943ec-57b7-48be-f3b6-af607cf4d62d"
      },
      "execution_count": 14,
      "outputs": [
        {
          "output_type": "stream",
          "name": "stdout",
          "text": [
            "5\n",
            "['0827CI191051', 'Sanskar', 5, 50, 90]\n"
          ]
        }
      ]
    },
    {
      "cell_type": "code",
      "source": [
        "print(li.pop())\n",
        "print(li[:])"
      ],
      "metadata": {
        "colab": {
          "base_uri": "https://localhost:8080/"
        },
        "id": "Dg_pORkwa0At",
        "outputId": "f6761861-27a1-4de7-8133-18eef24f25a7"
      },
      "execution_count": 15,
      "outputs": [
        {
          "output_type": "stream",
          "name": "stdout",
          "text": [
            "90\n",
            "['0827CI191051', 'Sanskar', 5, 50]\n"
          ]
        }
      ]
    },
    {
      "cell_type": "code",
      "source": [
        "a=[1,2,3,4,5]\n",
        "print(max(a))\n",
        "print(min(a))\n",
        "li.reverse()\n",
        "print(li)\n",
        "c=list(reversed(li))\n",
        "print(c)\n",
        "b=li[0:3]\n",
        "print(b)"
      ],
      "metadata": {
        "colab": {
          "base_uri": "https://localhost:8080/"
        },
        "id": "QUKx9PXibrt4",
        "outputId": "3b65a40d-cbcb-44a4-ac3b-14c8e8ff8bb6"
      },
      "execution_count": 16,
      "outputs": [
        {
          "output_type": "stream",
          "name": "stdout",
          "text": [
            "5\n",
            "1\n",
            "[50, 5, 'Sanskar', '0827CI191051']\n",
            "['0827CI191051', 'Sanskar', 5, 50]\n",
            "[50, 5, 'Sanskar']\n"
          ]
        }
      ]
    },
    {
      "cell_type": "code",
      "source": [
        "a.append(1)\n",
        "print(a)\n",
        "\n",
        "a.extend([\"Sanskar\",\"Bandi\"])\n",
        "print(a)\n",
        "\n",
        "print(a[: :-1])"
      ],
      "metadata": {
        "colab": {
          "base_uri": "https://localhost:8080/"
        },
        "id": "4EVhiMI8dvME",
        "outputId": "d2a6aeb3-fd11-48cc-d43a-d28f90f09635"
      },
      "execution_count": 17,
      "outputs": [
        {
          "output_type": "stream",
          "name": "stdout",
          "text": [
            "[1, 2, 3, 4, 5, 1]\n",
            "[1, 2, 3, 4, 5, 1, 'Sanskar', 'Bandi']\n",
            "['Bandi', 'Sanskar', 1, 5, 4, 3, 2, 1]\n"
          ]
        }
      ]
    },
    {
      "cell_type": "code",
      "source": [
        "t=(1,2,3,4)\n",
        "print(t)\n",
        "\n",
        "t1=(3,4,5,6)\n",
        "t+t1\n",
        "\n",
        "lis=[0,1,2,3,4,5,6,7,8,9,10,11,12,13,14,15,16,17,18,19,20]\n",
        "print(lis[::2])\n",
        "print(lis[::-2],\"------\")\n",
        "print(lis[3::-1])\n",
        "print(lis[12:0:-2])\n",
        "\n",
        "t3=[i for i in t1 if i%2==0]\n",
        "print(t3)\n",
        "\n"
      ],
      "metadata": {
        "colab": {
          "base_uri": "https://localhost:8080/"
        },
        "id": "r1Yz4ZWBfbpS",
        "outputId": "254412b2-119c-40ab-f253-1af8240a6830"
      },
      "execution_count": 18,
      "outputs": [
        {
          "output_type": "stream",
          "name": "stdout",
          "text": [
            "(1, 2, 3, 4)\n",
            "[0, 2, 4, 6, 8, 10, 12, 14, 16, 18, 20]\n",
            "[20, 18, 16, 14, 12, 10, 8, 6, 4, 2, 0] ------\n",
            "[3, 2, 1, 0]\n",
            "[12, 10, 8, 6, 4, 2]\n",
            "[4, 6]\n"
          ]
        }
      ]
    }
  ]
}
